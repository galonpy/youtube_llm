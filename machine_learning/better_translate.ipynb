{
 "cells": [
  {
   "cell_type": "code",
   "execution_count": null,
   "metadata": {},
   "outputs": [],
   "source": [
    "from sentence_transformers import SentenceTransformer, util\n",
    "from sklearn.metrics.pairwise import cosine_similarity\n",
    "import numpy as np\n",
    "import pandas as pd\n",
    "import tqdm"
   ]
  },
  {
   "cell_type": "code",
   "execution_count": null,
   "metadata": {},
   "outputs": [],
   "source": [
    "model = SentenceTransformer('sentence-transformers/all-MiniLM-L6-v2')"
   ]
  },
  {
   "cell_type": "code",
   "execution_count": null,
   "metadata": {},
   "outputs": [],
   "source": [
    "filter_sent = \"Politics\"\n",
    "list_of_videos = [\"Who'se Really Supporting Russia\",\"The Perfect Hillary Clinton Analogy\",\"The Evolution of Alex Jones\",\\\n",
    "                    \"Patrick Bet David on The Breakfast Club\",\"The Truth About The 2020 Election\",\"Kobe Bryant's Last Great Interview\"]"
   ]
  },
  {
   "cell_type": "code",
   "execution_count": null,
   "metadata": {},
   "outputs": [],
   "source": [
    "def filter_out_embed(model, user_english_query : str, ground_truth_english_options : list,top_k=3):\n",
    "    r\"\"\"\n",
    "    Takes in a filter sentence and a list of video string titles and returns\n",
    "    video titles that are less than 0.19 cosine similarity.\n",
    "    \n",
    "    Parameters\n",
    "    ----------\n",
    "    model : sentence_transformers.SentenceTransformer.SentenceTransformer\n",
    "        The HuggingFace Senctence Transformer language model to perform\n",
    "        encoding of the text.\n",
    "    user_english_query : str\n",
    "        The filter sentence written in natural language to remove from the youtube\n",
    "        search query.\n",
    "    ground_truth_english_options : list\n",
    "        The list of titles to be encoded by the `model`.\n",
    "    threshold : int, default=0.19\n",
    "        The threshold to filter videos by cosine similarity comparison.\n",
    "\n",
    "    Returns\n",
    "    -------\n",
    "    results : list\n",
    "        The list of titles left after the filter pass.\n",
    "    \"\"\"\n",
    "\n",
    "    results = []\n",
    "    #Compute embedding for both lists\n",
    "    embedding_filter= model.encode(user_english_query, convert_to_tensor=True)\n",
    "    for sent in ground_truth_english_options:\n",
    "        embedding_uniq_vid = model.encode(sent, convert_to_tensor=True)\n",
    "        result = util.pytorch_cos_sim(embedding_filter, embedding_uniq_vid)\n",
    "        results.append((sent,result.item()))\n",
    "    results.sort(key=lambda x: x[1])\n",
    "\n",
    "    return results[-top_k:]"
   ]
  },
  {
   "cell_type": "code",
   "execution_count": null,
   "metadata": {},
   "outputs": [],
   "source": [
    "print(filter_out_embed(model,'hello', list_of_videos,3))"
   ]
  },
  {
   "cell_type": "code",
   "execution_count": null,
   "metadata": {},
   "outputs": [],
   "source": [
    "path = '/Users/gabrielalon/Desktop/clonetown/youtube_llm/machine_learning/'"
   ]
  },
  {
   "cell_type": "code",
   "execution_count": null,
   "metadata": {},
   "outputs": [],
   "source": [
    "ground_truth_path = '/Users/gabrielalon/Downloads/english_to_spanish.parquet'"
   ]
  },
  {
   "cell_type": "code",
   "execution_count": null,
   "metadata": {},
   "outputs": [],
   "source": [
    "df = pd.read_parquet(ground_truth_path)\n",
    "english_sentences = df['english'].tolist()\n",
    "spanish_sentences = df['spanish'].tolist()"
   ]
  },
  {
   "cell_type": "code",
   "execution_count": null,
   "metadata": {},
   "outputs": [],
   "source": [
    "english_to_spanish = dict(zip(english_sentences, spanish_sentences))\n",
    "\n",
    "print(english_to_spanish.values())"
   ]
  },
  {
   "cell_type": "code",
   "execution_count": null,
   "metadata": {},
   "outputs": [],
   "source": [
    "print(english_sentences[:5])"
   ]
  },
  {
   "cell_type": "code",
   "execution_count": null,
   "metadata": {},
   "outputs": [],
   "source": [
    "print(len)"
   ]
  },
  {
   "cell_type": "code",
   "execution_count": null,
   "metadata": {},
   "outputs": [],
   "source": [
    "test_english_sample = english_sentences#[:1000] #109226\n",
    "print(test_english_sample)\n",
    "specific_ground_truth = english_sentences[109226]\n",
    "test_english_sample.append(specific_ground_truth)"
   ]
  },
  {
   "cell_type": "code",
   "execution_count": null,
   "metadata": {},
   "outputs": [],
   "source": [
    "#print(test_english_sample)"
   ]
  },
  {
   "cell_type": "code",
   "execution_count": null,
   "metadata": {},
   "outputs": [],
   "source": [
    "user_english_query = 'you need to run'\n",
    "#user_english_query : str, ground_truth_english_options"
   ]
  },
  {
   "cell_type": "markdown",
   "metadata": {},
   "source": [
    "Time on 139k ground truth english sentences: "
   ]
  },
  {
   "cell_type": "code",
   "execution_count": null,
   "metadata": {},
   "outputs": [],
   "source": [
    "print(filter_out_embed(model,user_english_query,test_english_sample,3))\n",
    "#def filter_out_embed(model, user_english_query : str, ground_truth_english_options : list, threshold : int = 0.19):\n"
   ]
  },
  {
   "cell_type": "markdown",
   "metadata": {},
   "source": [
    "Consider these results in the ground truth data for high similarity to \"you need to run\"\n",
    "[('Start running.', 0.6700537204742432), ('I must run.', 0.7214442491531372), ('I have to run.', 0.7606613636016846)]\n",
    "The first could be the best given the context of 'you', while the others are \"interesting\" from an educational perspective for the user\n"
   ]
  }
 ],
 "metadata": {
  "kernelspec": {
   "display_name": "venv",
   "language": "python",
   "name": "venv"
  },
  "language_info": {
   "codemirror_mode": {
    "name": "ipython",
    "version": 3
   },
   "file_extension": ".py",
   "mimetype": "text/x-python",
   "name": "python",
   "nbconvert_exporter": "python",
   "pygments_lexer": "ipython3",
   "version": "3.9.13"
  }
 },
 "nbformat": 4,
 "nbformat_minor": 2
}
