{
 "cells": [
  {
   "cell_type": "code",
   "execution_count": 18,
   "metadata": {},
   "outputs": [],
   "source": [
    "from sentence_transformers import SentenceTransformer, util\n",
    "from sklearn.metrics.pairwise import cosine_similarity\n",
    "import numpy as np\n",
    "import pandas as pd\n",
    "import tqdm"
   ]
  },
  {
   "cell_type": "code",
   "execution_count": 19,
   "metadata": {},
   "outputs": [],
   "source": [
    "model = SentenceTransformer('sentence-transformers/all-MiniLM-L6-v2')"
   ]
  },
  {
   "cell_type": "code",
   "execution_count": 20,
   "metadata": {},
   "outputs": [],
   "source": [
    "filter_sent = \"Politics\"\n",
    "list_of_videos = [\"Who'se Really Supporting Russia\",\"The Perfect Hillary Clinton Analogy\",\"The Evolution of Alex Jones\",\\\n",
    "                    \"Patrick Bet David on The Breakfast Club\",\"The Truth About The 2020 Election\",\"Kobe Bryant's Last Great Interview\"]"
   ]
  },
  {
   "cell_type": "code",
   "execution_count": 21,
   "metadata": {},
   "outputs": [],
   "source": [
    "def filter_out_embed(model, user_english_query_1 : str, ground_truth_english_options : list,top_k=3):\n",
    "    r\"\"\"\n",
    "    Takes in a filter sentence and a list of video string titles and returns\n",
    "    video titles that are less than 0.19 cosine similarity.\n",
    "    \n",
    "    Parameters\n",
    "    ----------\n",
    "    model : sentence_transformers.SentenceTransformer.SentenceTransformer\n",
    "        The HuggingFace Senctence Transformer language model to perform\n",
    "        encoding of the text.\n",
    "    user_english_query_1 : str\n",
    "        The filter sentence written in natural language to remove from the youtube\n",
    "        search query.\n",
    "    ground_truth_english_options : list\n",
    "        The list of titles to be encoded by the `model`.\n",
    "    threshold : int, default=0.19\n",
    "        The threshold to filter videos by cosine similarity comparison.\n",
    "\n",
    "    Returns\n",
    "    -------\n",
    "    results : list\n",
    "        The list of titles left after the filter pass.\n",
    "    \"\"\"\n",
    "\n",
    "    results = []\n",
    "    #Compute embedding for both lists\n",
    "    embedding_filter= model.encode(user_english_query_1, convert_to_tensor=True)\n",
    "    for sent in ground_truth_english_options:\n",
    "        embedding_uniq_vid = model.encode(sent, convert_to_tensor=True)\n",
    "        result = util.pytorch_cos_sim(embedding_filter, embedding_uniq_vid)\n",
    "        results.append((sent,result.item()))\n",
    "    results.sort(key=lambda x: x[1])\n",
    "\n",
    "    return results[-top_k:]"
   ]
  },
  {
   "cell_type": "code",
   "execution_count": 22,
   "metadata": {},
   "outputs": [
    {
     "name": "stdout",
     "output_type": "stream",
     "text": [
      "[('The Truth About The 2020 Election', 0.11621567606925964), ('The Evolution of Alex Jones', 0.12610024213790894), (\"Kobe Bryant's Last Great Interview\", 0.21592138707637787)]\n"
     ]
    }
   ],
   "source": [
    "print(filter_out_embed(model,'hello', list_of_videos,3))"
   ]
  },
  {
   "cell_type": "code",
   "execution_count": 23,
   "metadata": {},
   "outputs": [],
   "source": [
    "path = '/Users/gabrielalon/Desktop/clonetown/youtube_llm/machine_learning/'"
   ]
  },
  {
   "cell_type": "code",
   "execution_count": 24,
   "metadata": {},
   "outputs": [],
   "source": [
    "ground_truth_path = '/Users/gabrielalon/Downloads/english_to_spanish.parquet'"
   ]
  },
  {
   "cell_type": "code",
   "execution_count": 25,
   "metadata": {},
   "outputs": [],
   "source": [
    "df = pd.read_parquet(ground_truth_path)\n",
    "english_sentences = df['english'].tolist()\n",
    "spanish_sentences = df['spanish'].tolist()"
   ]
  },
  {
   "cell_type": "code",
   "execution_count": 26,
   "metadata": {},
   "outputs": [],
   "source": [
    "english_to_spanish = dict(zip(english_sentences, spanish_sentences))"
   ]
  },
  {
   "cell_type": "code",
   "execution_count": 27,
   "metadata": {},
   "outputs": [
    {
     "name": "stdout",
     "output_type": "stream",
     "text": [
      "['Go.', 'Go.', 'Go.', 'Go.', 'Hi.']\n"
     ]
    }
   ],
   "source": [
    "print(english_sentences[:5])"
   ]
  },
  {
   "cell_type": "code",
   "execution_count": 28,
   "metadata": {},
   "outputs": [
    {
     "name": "stdout",
     "output_type": "stream",
     "text": [
      "<built-in function len>\n"
     ]
    }
   ],
   "source": [
    "print(len)"
   ]
  },
  {
   "cell_type": "code",
   "execution_count": 29,
   "metadata": {},
   "outputs": [
    {
     "name": "stdout",
     "output_type": "stream",
     "text": [
      "['Go.', 'Go.', 'Go.', 'Go.', 'Hi.', 'Hi.', 'Run!', 'Run!', 'Run!', 'Run!', 'Run.', 'Who?', 'Wow!', 'Duck!', 'Fire!', 'Fire!', 'Fire!', 'Help!', 'Help!', 'Help!', 'Hide.', 'Jump!', 'Jump.', 'Jump.', 'Stay.', 'Stop!', 'Stop!', 'Stop!', 'Wait!', 'Wait!', 'Wait.', 'Wait.', 'Begin.', 'Go on.', 'Go on.', 'Hello!', 'Hurry!', 'Hurry!', 'Hurry!', 'I hid.', 'I hid.', 'I hid.', 'I hid.', 'I ran.', 'I ran.', 'I try.', 'I won!', 'Oh no!', 'Relax.', 'Shoot!', 'Shoot!', 'Shoot!', 'Shoot!', 'Shoot!', 'Shoot!', 'Shoot!', 'Smile.', 'Sorry?', 'Attack!', 'Attack!', 'Attack!', 'Attack!', 'Attack!', 'Buy it.', 'Eat it.', 'Eat it.', 'Eat it.', 'Eat it.', 'Get up.', 'Go now.', 'Go now.', 'Go now.', 'Go now.', 'Go now.', 'Go now.', 'Go now.', 'Go now.', 'Got it!', 'Got it?', 'Got it?', 'He ran.', 'He ran.', 'Hop in.', 'Hug me.', 'I care.', 'I fell.', 'I fled.', 'I fled.', 'I fled.', 'I fled.', 'I know.', 'I know.', 'I left.', 'I lied.', 'I lost.', 'I paid.', 'I quit.', 'I quit.', 'I quit.', 'I sang.', 'I wept.', 'I wept.', 'I work.', \"I'm 19.\", \"I'm up.\", 'Listen.', 'Listen.', 'Listen.', 'No way!', 'No way!', 'No way!', 'No way!', 'No way!', 'No way!', 'No way!', 'No way!', 'No way!', 'No way!', 'Really?', 'Really?', 'Thanks!', 'Thanks.', 'Thanks.', 'Try it.', 'Try me.', 'We ate.', 'We try.', 'We won.', 'Why me?', 'Ask Tom.', 'Ask him.', 'Awesome!', 'Be calm.', 'Be cool.', 'Be fair.', 'Be good.', 'Be good.', 'Be good.', 'Be good.', 'Be good.', 'Be good.', 'Be good.', 'Be good.', 'Be kind.', 'Be nice.', 'Beat it!', 'Beat it.', 'Call me.', 'Call me.', 'Call me.', 'Call us.', 'Come in.', 'Come in.', 'Come in.', 'Come on!', 'Come on.', 'Come on.', 'Drop it!', 'Fold it.', 'Get Tom.', 'Get out!', 'Get out.', 'Get out.', 'Get out.', 'Get out.', 'Get out.', 'Go away!', 'Go away!', 'Go away!', 'Go away!', 'Go away!', 'Go away!', 'Go away!', 'Go away.', 'Go away.', 'Go away.', 'Go away.', 'Go away.', 'Go away.', 'Go away.', 'Go home.', 'Go slow.', 'Goodbye!', 'Goodbye!', 'Goodbye!', 'Hang on!', 'Hang on!', 'Hang on!', 'Hang on.', 'Hang on.', 'He came.', 'He left.', 'Help me!', 'Help me.', 'Help me.', 'Help me.', 'Help us.', 'Hi, Tom.', 'Hit Tom.', 'Hold it!', 'Hold it.', 'Hold it.', 'Hold it.', 'Hold it.', 'Hold it.', 'Hold it.', 'Hold it.', 'Hold it.', 'Hold on.', 'Hold on.', 'Hold on.', 'Hold on.', 'Hold on.', 'Hug Tom.', 'I agree.', 'I agree.', 'I agree.', 'I bowed.', 'I cried.', 'I cried.', 'I fired.', 'I froze.', 'I froze.', 'I froze.', 'I moved.', 'I moved.', 'I moved.', 'I moved.', 'I slept.', 'I tried.', \"I'll go.\", \"I'm Tom.\", \"I'm fat.\", \"I'm fat.\", \"I'm fit.\", \"I'm hit!\", \"I'm mad.\", \"I'm old.\", \"I'm shy.\", \"I'm wet.\", \"It's OK.\", \"It's me!\", \"It's me!\", \"It's me.\", \"It's me.\", 'Join us.', 'Join us.', 'Join us.', 'Keep it.', 'Lie low.', 'Lock it.', 'Lock it.', 'Me, too.', 'Open up.', 'Perfect!', 'Push it.', 'Push it.', 'Push it.', 'Push it.', 'Push it.', 'Push it.', 'Push it.', 'Push it.', 'See you!', 'See you.', 'See you.', 'Show me.', 'Show me.', 'Show me.', 'Show me.', 'Shut up!', 'Shut up!', 'Shut up!', 'Shut up!', 'Skip it.', 'So long.', 'So long.', 'Stop it.', 'Stop it.', 'Take it.', 'Tell me.', 'Tell me.', 'Tell me.', 'Tell me.', 'Tell me.', 'Tom ate.', 'Tom ran.', 'Tom won.', 'Wait up.', 'Wake up!', 'Wake up!', 'Wake up!', 'Wake up.', 'Wash up.', 'We care.', 'We know.', 'We lost.', 'Welcome.', 'Welcome.', 'Who ate?', 'Who ran?', 'Who ran?', 'Who won?', 'Who won?', 'Why not?', 'You run.', 'You won.', 'Am I fat?', 'Am I fat?', 'Ask them.', 'Ask them.', 'Back off!', 'Back off!', 'Back off.', 'Be a man.', 'Be brave.', 'Be brief.', 'Be brief.', 'Be brief.', 'Be quiet.', 'Be still.', 'Call Tom.', 'Call Tom.', 'Call Tom.', 'Cheer up!', 'Cheer up.', 'Cool off!', 'Cuff him.', \"Don't go.\", 'Drive on.', 'Find Tom.', 'Find Tom.', 'Find Tom.', 'Find Tom.', 'Find Tom.', 'Find Tom.', 'Fix this.', 'Get away!', 'Get away!', 'Get away!', 'Get away!', 'Get down!', 'Get down!', 'Get down!', 'Get down.', 'Get down.', 'Get lost!', 'Get lost!', 'Get lost!', 'Get lost!', 'Get lost!', 'Get lost.', 'Get real!', 'Get real!', 'Get real.', 'Go ahead!', 'Go ahead.', 'Go on in.', 'Go on in.', 'Go on in.', 'Go on in.', 'Go on in.', 'Going up?', 'Good job!', 'Grab Tom.', 'Grab him.', 'Have fun.', 'Have fun.', 'Have fun.', 'He spoke.', 'He tries.', 'He tries.', 'Help Tom.', 'Hi, guys.', 'Hi, guys.', 'Hi, guys.', 'Hi, guys.', 'Hi, guys.', 'Hi, guys.', 'How cute!', 'How deep?', 'How deep?', 'Humor me.', 'Humor me.', 'Hurry up.', 'Hurry up.', 'Hurry up.', 'Hurry up.', 'I agreed.', 'I agreed.', 'I agreed.', 'I am old.', 'I ate it.', 'I ate it.', 'I can go.', 'I cursed.', 'I cursed.', 'I did OK.', 'I did it.', 'I failed.', 'I failed.', 'I forgot.', 'I get by.', 'I get it.', 'I got it.', 'I had it.', 'I helped.', 'I jumped.', 'I looked.', 'I phoned.', 'I prayed.', 'I refuse.', 'I resign.', 'I resign.', 'I sat up.', 'I saw it.', 'I shaved.', 'I sighed.', 'I smiled.', 'I stayed.', 'I talked.', 'I talked.', 'I talked.', 'I talked.', 'I use it.', 'I waited.', \"I'll pay.\", \"I'm back.\", \"I'm back.\", \"I'm back.\", \"I'm bald.\", \"I'm bald.\", \"I'm calm.\", \"I'm cool.\", \"I'm deaf.\", \"I'm done.\", \"I'm done.\", \"I'm done.\", \"I'm easy.\", \"I'm fair.\", \"I'm fine.\", \"I'm free!\", \"I'm free.\", \"I'm full.\", \"I'm full.\", \"I'm full.\", \"I'm here.\", \"I'm home.\", \"I'm hurt.\", \"I'm late.\", \"I'm lazy.\", \"I'm lost.\", \"I'm mean.\", \"I'm next.\", \"I'm okay.\", \"I'm poor.\", \"I'm rich.\", \"I'm rich.\", \"I'm safe.\", \"I'm sick.\", \"I'm thin.\", \"I'm thin.\", \"I'm tidy.\", \"I'm ugly.\", \"I'm warm.\", \"I'm weak.\", \"I'm wise.\", \"I've won.\", 'It helps.', 'It hurts.', 'It works.', \"It's Tom.\", \"It's big.\", \"It's fun.\", \"It's his.\", \"It's new.\", \"It's odd.\", \"It's old.\", \"It's red.\", \"It's sad.\", \"It's tea.\", 'Keep out!', 'Keep out.', 'Kiss Tom.', 'Kiss Tom.', 'Kiss Tom.', 'Leave it.', 'Leave it.', 'Leave me.', 'Leave us.', \"Let's go!\", \"Let's go!\", \"Let's go!\", \"Let's go.\", 'Look out!', 'Marry me.', 'May I go?', 'Save Tom.', 'She came.', 'She died.', 'She died.', 'She left.', 'She runs.', 'Sit down!', 'Sit down.', 'Sit down.', 'Sit down.', 'Sit here.', 'Sit here.', 'Speak up!', 'Speak up!', 'Speak up!', 'Stand by.', 'Stand by.', 'Stand up!', 'Stand up!', 'Stay put.', 'Stop Tom.', 'Take Tom.', 'Taste it.', 'Tell Tom.', 'Terrific!', 'Terrific!', 'They won.', 'Tom came.', 'Tom died.', 'Tom died.', 'Tom fell.', 'Tom knew.', 'Tom knew.', 'Tom left.', 'Tom lied.', 'Tom lied.', 'Tom lies.', 'Tom lost.', 'Tom paid.', 'Tom quit.', 'Tom sang.', 'Tom spit.', 'Tom swam.', 'Tom wept.', \"Tom's up.\", 'Too late.', 'Trust me!', 'Trust me.', 'Try hard.', 'Try some.', 'Try some.', 'Try some.', 'Try some.', 'Try this.', 'Try this.', 'Try this.', 'Use this.', 'Warn Tom.', 'Warn Tom.', 'Warn Tom.', 'Warn Tom.', 'Watch me.', 'Watch me.', 'Watch me.', 'Watch us.', 'Watch us.', 'We agree.', 'We tried.', \"We'll go.\", \"We're OK.\", 'What for?', 'What fun!', 'What now?', 'Who am I?', 'Who am I?', 'Who came?', 'Who died?', 'Who fell?', 'Who fell?', 'Who lost?', 'Who paid?', 'Who quit?', 'Who quit?', 'Who swam?', \"Who's he?\", 'Write me.', 'You lost.', 'You lost.', 'You lost.', 'You lost.', 'You lost.', 'You lost.', 'You lost.', 'You lost.', 'After you.', 'After you.', 'After you.', 'After you.', 'After you.', 'Aim. Fire!', 'Answer me.', 'Answer me.', 'Answer me.', 'Be honest.', 'Be strong.', 'Birds fly.', 'Bless you.', 'Call home!', 'Calm down!', 'Calm down!', 'Calm down!', 'Calm down.', 'Calm down.', 'Calm down.', 'Calm down.', 'Calm down.', 'Calm down.', 'Can we go?', 'Can we go?', 'Can we go?', 'Catch Tom.', 'Catch him.', 'Catch him.', 'Catch him.', 'Catch him.', 'Chill out.', 'Come back.', 'Come here.', 'Come here.', 'Come here.', 'Come here.', 'Come home.', 'Come over.', 'Come over.', 'Come over.', 'Come over.', 'Come soon.', 'Did I win?', 'Did I win?', 'Do it now.', 'Do it now.', 'Dogs bark.', \"Don't ask.\", \"Don't cry.\", \"Don't cry.\", \"Don't cry.\", \"Don't cry.\", \"Don't cry.\", \"Don't cry.\", \"Don't cry.\", \"Don't die.\", \"Don't die.\", \"Don't die.\", \"Don't lie.\", \"Don't run.\", 'Excuse me.', 'Excuse me?', 'Fantastic!', 'Fantastic!', 'Fantastic!', 'Feel this.', 'Feel this.', 'Feel this.', 'Feel this.', 'Feel this.', 'Follow me.', 'Follow me.', 'Follow us.', 'Forget it!', 'Forget it.', 'Forget me.', 'Forget me.', 'Forget me.', 'Forget me.', 'Get ready.', 'Get to it.', 'Go for it.', 'Go for it.', 'Go get it.', 'Go get it.', 'Go get it.', 'Go inside.', 'Go to bed.', 'Grab that.', 'Grab this.', 'Have some.', 'Have some.', 'Have some.', 'He is old.', 'He is old.', 'He shaved.', 'He smiled.', \"He's a DJ.\", \"He's fast.\", \"He's good.\", \"He's rich.\", \"He's rich.\", 'Here I am.', 'Hold this.', 'How awful!', 'How weird!', \"How's Tom?\", 'Humor Tom.', 'I am full.', 'I am full.', 'I am good.', 'I am here.', 'I am sick.', 'I am weak.', 'I am well.', 'I beg you.', 'I beg you.', 'I belched.', 'I can fly.', 'I can run.', 'I can run.', 'I can ski.', 'I changed.', 'I changed.', 'I coughed.', 'I cringed.', 'I exhaled.', 'I fainted.', 'I fainted.', 'I gave up.', 'I gave up.', 'I gave up.', 'I gave up.', 'I get you.', 'I get you.', 'I get you.', 'I give up.', 'I got hit.', 'I got hit.', 'I got wet.', 'I got wet.', 'I grinned.', 'I hate it.', 'I hate it.', 'I hate it.', 'I hit Tom.', 'I hit Tom.', 'I hope so.', 'I kneeled.', 'I kneeled.', 'I knew it.', 'I laughed.', 'I like it.', 'I love it!', 'I love it.', 'I mean it!', 'I mean it.', 'I mean it.', 'I met Tom.', 'I met Tom.', 'I miss it.', 'I miss it.', 'I miss it.', 'I need it.', 'I said no.', 'I saw Tom.', 'I saw him.', 'I saw him.', 'I saw one.', 'I saw one.', 'I saw one.', 'I saw you.', 'I saw you.', 'I see Tom.', 'I shouted.', 'I sneezed.', 'I stopped.', 'I stopped.', 'I tripped.', 'I was sad.', 'I was shy.', 'I will go.', 'I woke up.', \"I'll call.\", \"I'll cook.\", \"I'll cook.\", \"I'll live.\", \"I'll sing.\", \"I'll stay.\", \"I'll stay.\", \"I'll stop.\", \"I'll stop.\", \"I'll wait.\", \"I'll wait.\", \"I'll walk.\", \"I'll walk.\", \"I'll work.\", \"I'm a boy.\", \"I'm a man.\", \"I'm a pro.\", \"I'm alone.\", \"I'm alone.\", \"I'm alone.\", \"I'm alone.\", \"I'm angry.\", \"I'm angry.\", \"I'm angry.\", \"I'm awake.\", \"I'm blind.\", \"I'm brave.\", \"I'm broke.\", \"I'm broke.\", \"I'm broke.\", \"I'm broke.\", \"I'm crazy.\", \"I'm crazy.\", \"I'm drunk.\", \"I'm drunk.\", \"I'm drunk.\", \"I'm dying.\", \"I'm first.\", \"I'm first.\", \"I'm first.\", \"I'm first.\", \"I'm happy.\", \"I'm happy.\", \"I'm loved.\", \"I'm loved.\", \"I'm lucky.\", \"I'm naked.\", \"I'm obese.\", \"I'm ready!\", \"I'm ready.\", \"I'm ready.\", \"I'm sorry.\", \"I'm tired.\", \"I'm tired.\", \"I'm yours.\", \"I'm yours.\", \"I'm yours.\", \"I've lost.\", 'Ignore it.', 'Ignore it.', 'Is Tom OK?', 'Is Tom in?', 'Is he Tom?', 'Is he Tom?', 'Is it bad?', 'Is it bad?', 'Is it far?', 'Is it red?', 'Is it you?', 'It burned.', 'It failed.', 'It failed.', 'It failed.', 'It floats.', 'It poured.', 'It rained.', 'It snowed.', 'It stinks.', 'It worked.', \"It's 8:30.\", \"It's a TV.\", \"It's cold.\", \"It's cold.\", \"It's cool.\", \"It's cool.\", \"It's dark.\", \"It's done!\", \"It's done!\", \"It's fair.\", \"It's fine.\", \"It's good.\", \"It's good.\", \"It's hard.\", \"It's here.\", \"It's hers.\", \"It's late.\", \"It's mine.\", \"It's mine.\", \"It's nice.\", \"It's nice.\", \"It's okay.\", \"It's okay.\", \"It's ours.\", \"It's ours.\", \"It's over.\", \"It's over.\", \"It's time.\", \"It's time.\", \"It's time.\", \"It's time.\", \"It's true!\", \"It's true.\", \"It's work.\", 'Keep calm.', 'Keep them.', 'Keep them.', 'Keep them.', 'Keep this.', 'Keep this.', 'Keep this.', 'Keep this.', 'Keep this.', 'Keep warm.', 'Keep warm.', 'Keep warm.', 'Keep warm.', 'Keep warm.', 'Keep warm.', 'Keep warm.', 'Keep warm.', 'Leave Tom.', 'Leave Tom.', 'Leave Tom.', 'Leave now!', 'Leave now!', 'Leave now.', 'Leave now.', 'Leave now.', 'Let me go!', 'Let me go!', 'Let me go!', 'Let me go.', 'Let me in.', 'Let me in.', 'Let us in.', \"Let's eat.\", \"Let's see.\", \"Let's try!\", 'Lie still.', 'Lie still.', 'Listen up.', 'Look away.', 'Look away.', 'Look away.', 'Look away.', 'Look back!', 'Look back.', 'Look back.', 'Look back.', 'Look here.', 'Look here.', 'Look here.', 'Loosen it.', 'Loosen it.', 'Loosen it.', 'Loosen it.', 'Move over.', 'Move over.', 'Move over.', 'Move over.', 'Nice shot!', 'Of course!', 'Open fire!', 'Open fire!', 'Pardon me?', 'Please go.', 'Please go.', 'Please go.', 'Please go.', 'Put it on.', 'Put it on.', 'Put it on.', 'Put it on.', 'Read this.', 'Read this.', 'Read this.', 'Read this.', 'Rest here.', 'Say hello.', 'Search me.', 'See above.', 'See above.', 'Seize him!', 'Seize him!', 'Seize him!', 'Seize him!', 'Seize him!', 'Seriously?', 'She tried.', 'She tried.', 'She walks.', 'She walks.', 'She walks.', \"She's hot.\", \"She's hot.\", \"She's hot.\", \"She's hot.\", \"She's hot.\", 'Sign here.', 'Sign this.', 'Sign this.', 'Sign this.', 'Sign this.', 'Sign this.', 'Sit still.', 'Sit still.', 'Sit there.', 'Sit tight.', 'Slow down.', 'Slow down.', 'Stay away.', 'Stay away.', 'Stay calm.', 'Stay calm.', 'Stay calm.']\n"
     ]
    }
   ],
   "source": [
    "test_english_sample = english_sentences[:1000] #109226\n",
    "print(test_english_sample)\n",
    "specific_ground_truth = english_sentences[109226]\n",
    "test_english_sample.append(specific_ground_truth)"
   ]
  },
  {
   "cell_type": "code",
   "execution_count": 30,
   "metadata": {},
   "outputs": [],
   "source": [
    "#print(test_english_sample)"
   ]
  },
  {
   "cell_type": "code",
   "execution_count": 38,
   "metadata": {},
   "outputs": [],
   "source": [
    "user_english_query_1 = 'you need to run'\n",
    "#user_english_query_1 : str, ground_truth_english_options"
   ]
  },
  {
   "cell_type": "markdown",
   "metadata": {},
   "source": [
    "Time on 139k ground truth english sentences: "
   ]
  },
  {
   "cell_type": "code",
   "execution_count": 39,
   "metadata": {},
   "outputs": [
    {
     "name": "stdout",
     "output_type": "stream",
     "text": [
      "[('I can run.', 0.6228374242782593), ('I can run.', 0.6228374242782593), ('You run.', 0.651080846786499)]\n"
     ]
    }
   ],
   "source": [
    "test_case_1 = (filter_out_embed(model,user_english_query_1,test_english_sample,3))\n",
    "print(test_case_1)\n",
    "#def filter_out_embed(model, user_english_query_1 : str, ground_truth_english_options : list, threshold : int = 0.19):\n",
    "#[('I can run.', 0.6228374242782593), ('I can run.', 0.6228374242782593), ('You run.', 0.651080846786499)]\n",
    "#notice data duplication error"
   ]
  },
  {
   "cell_type": "code",
   "execution_count": 37,
   "metadata": {},
   "outputs": [
    {
     "name": "stdout",
     "output_type": "stream",
     "text": [
      "User input: you need to run\n",
      "I can run. -- Spanish: Sé correr.\n",
      "I can run. -- Spanish: Sé correr.\n",
      "You run. -- Spanish: Corre.\n"
     ]
    }
   ],
   "source": [
    "print(f\"User input: {user_english_query_1}\")\n",
    "for case in test_case_1:\n",
    "    print(f\"{case[0]} -- Spanish: {english_to_spanish[case[0]]}\")\n",
    "#Note google translate corre and it says 'runs' but a legit translation is also you run in a formal context which is a lost\n",
    "#possibilitiy because google translate gives only one prediction"
   ]
  },
  {
   "cell_type": "markdown",
   "metadata": {},
   "source": [
    "Consider these results in the ground truth data for high similarity to \"you need to run\"\n",
    "\n",
    "[('Start running.', 0.6700537204742432), ('I must run.', 0.7214442491531372), ('I have to run.', 0.7606613636016846)]\n",
    "\n",
    "The first could be the best given the context of 'you', while the others are \"interesting\" from an educational perspective \n",
    "for the user\n",
    "\n"
   ]
  }
 ],
 "metadata": {
  "kernelspec": {
   "display_name": "venv",
   "language": "python",
   "name": "venv"
  },
  "language_info": {
   "codemirror_mode": {
    "name": "ipython",
    "version": 3
   },
   "file_extension": ".py",
   "mimetype": "text/x-python",
   "name": "python",
   "nbconvert_exporter": "python",
   "pygments_lexer": "ipython3",
   "version": "3.9.13"
  }
 },
 "nbformat": 4,
 "nbformat_minor": 2
}
